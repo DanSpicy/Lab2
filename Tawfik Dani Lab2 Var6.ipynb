{
 "cells": [
  {
   "cell_type": "code",
   "execution_count": 41,
   "metadata": {},
   "outputs": [
    {
     "name": "stdout",
     "output_type": "stream",
     "text": [
      "Sine of angles in the array:\n",
      "[0.01745241 0.05233596 0.06975647 0.10452846 0.17364818 0.20791169\n",
      " 0.25881905 0.2923717  0.30901699]\n",
      "Inverse Sine of sine values:\n",
      "[ 1.  3.  4.  6. 10. 12. 15. 17. 18.]\n",
      "Sine hyperbolic of angles in the array:\n",
      "[0.01745418 0.05238381 0.06986989 0.10491126 0.17542037 0.21097405\n",
      " 0.26480023 0.30107857 0.31935254]\n",
      "Inverse Sine hyperbolic:\n",
      "[0.01745329 0.05235985 0.06981306 0.10471891 0.17452207 0.20941245\n",
      " 0.26171646 0.29655043 0.3139519 ]\n",
      "hypotenuse of right triangle is:\n",
      "5.0\n"
     ]
    }
   ],
   "source": [
    "# 1 Perform a set of exercises. All tasks should be performed in two ways:\n",
    "#(A)using universal functions of the NumPy library\n",
    "import numpy as np\n",
    "\n",
    "angles = np.array([1, 3, 4, 6,10, 12, 15,17, 18])\n",
    "\n",
    "\n",
    "radians = np.deg2rad(angles)\n",
    "\n",
    "print('Sine of angles in the array:')\n",
    "sine_value = np.sin(radians)\n",
    "print(np.sin(radians))\n",
    "\n",
    "print('Inverse Sine of sine values:')\n",
    "print(np.rad2deg(np.arcsin(sine_value)))\n",
    "\n",
    "print('Sine hyperbolic of angles in the array:')\n",
    "sineh_value = np.sinh(radians)\n",
    "print(np.sinh(radians))\n",
    "\n",
    "print('Inverse Sine hyperbolic:')\n",
    "print(np.sin(sineh_value))\n",
    "\n",
    "base = 4\n",
    "height = 3\n",
    "print('hypotenuse of right triangle is:')\n",
    "print(np.hypot(base, height))\n"
   ]
  },
  {
   "cell_type": "code",
   "execution_count": 44,
   "metadata": {},
   "outputs": [
    {
     "name": "stdout",
     "output_type": "stream",
     "text": [
      "4 ms ± 117 µs per loop (mean ± std. dev. of 7 runs, 100 loops each)\n"
     ]
    }
   ],
   "source": [
    "#(A)calculate the execution time of the script.\n",
    "%timeit (1.0 / big_array)"
   ]
  },
  {
   "cell_type": "code",
   "execution_count": 42,
   "metadata": {},
   "outputs": [
    {
     "name": "stdout",
     "output_type": "stream",
     "text": [
      "[ 0  1  2  3  4  5  6  7  8  9 10 11 12 13 14 15 16 17] "
     ]
    }
   ],
   "source": [
    "# 1 Perform a set of exercises. All tasks should be performed in two ways:\n",
    "#(B)using iterative constructions (using loops, list comprehensions, etc.\n",
    "a = np.arange(18)\n",
    "\n",
    "for x in np.nditer(a, flags=['external_loop']):\n",
    "    print(x, end=' ')\n",
    "    "
   ]
  },
  {
   "cell_type": "code",
   "execution_count": 45,
   "metadata": {},
   "outputs": [
    {
     "name": "stdout",
     "output_type": "stream",
     "text": [
      "3.88 ms ± 164 µs per loop (mean ± std. dev. of 7 runs, 100 loops each)\n"
     ]
    }
   ],
   "source": [
    "#(B)calculate the execution time of the script\n",
    "%timeit (1.0 / big_array)"
   ]
  },
  {
   "cell_type": "markdown",
   "metadata": {},
   "source": [
    "# 1. Perform a set of exercises. All tasks should be performed in two ways:\n",
    "Time in Task 1(A) 4 ms ± 117 µs per loop (mean ± std. dev. of 7 runs, 100 loops each), \n",
    "Time in Task 1(B) 3.88 ms ± 164 µs per loop (mean ± std. dev. of 7 runs, 100 loops each), \n",
    "as seen loop (B) is slightly fast than loop (A) "
   ]
  },
  {
   "cell_type": "code",
   "execution_count": 53,
   "metadata": {
    "scrolled": true
   },
   "outputs": [
    {
     "name": "stdout",
     "output_type": "stream",
     "text": [
      "A = [[ 1  5  3 -4]\n",
      " [ 3  1 -2  0]\n",
      " [ 5 -7  0 10]\n",
      " [ 0  3 -5  0]]\n",
      "b = [20  9 -9  1]\n",
      "Ab = [34 87 47 72]\n"
     ]
    }
   ],
   "source": [
    "#2.Solve the system of linear equations using Cramer's formulas and check the result using:\n",
    "#(A) matrix multiplication;\n",
    "import numpy as np\n",
    "\n",
    "a = np.array([[1, 5, 3, -4], [3, 1, -2, 0], [5, -7, 0, 10], [0, 3, -5, 0]])\n",
    "b= np.array([20, 9, -9, 1])\n",
    "\n",
    "print(\"A =\", a)\n",
    "\n",
    "print(\"b =\", b)\n",
    "\n",
    "print(\"Ab =\",np.matmul(a,b))\n"
   ]
  },
  {
   "cell_type": "code",
   "execution_count": 51,
   "metadata": {
    "scrolled": true
   },
   "outputs": [
    {
     "name": "stdout",
     "output_type": "stream",
     "text": [
      "[[ 0.01587302  0.31746032  0.00634921 -0.11746032]\n",
      " [ 0.23809524 -0.23809524  0.0952381   0.23809524]\n",
      " [ 0.14285714 -0.14285714  0.05714286 -0.05714286]\n",
      " [ 0.15873016 -0.32539683  0.16349206  0.22539683]]\n",
      "[ 3.  2.  1. -1.]\n"
     ]
    }
   ],
   "source": [
    "#2.Solve the system of linear equations using Cramer's formulas and check the result using:\n",
    "#(B) inverse matrix;\n",
    "import numpy as np\n",
    "\n",
    "m_list = [[1, 5, 3, -4], [3, 1, -2, 0], [5, -7, 0, 10], [0, 3, -5, 0]]\n",
    "A = np.array(m_list)\n",
    "\n",
    "inv_A = np.linalg.inv(A)\n",
    "\n",
    "print(inv_A)\n",
    "\n",
    "B = np.array([20, 9, -9, 1])\n",
    "X = np.linalg.inv(A).dot(B)\n",
    "\n",
    "print(X)"
   ]
  },
  {
   "cell_type": "code",
   "execution_count": 57,
   "metadata": {},
   "outputs": [
    {
     "data": {
      "text/plain": [
       "array([ 3.,  2.,  1., -1.])"
      ]
     },
     "execution_count": 57,
     "metadata": {},
     "output_type": "execute_result"
    }
   ],
   "source": [
    "#2.Solve the system of linear equations using Cramer's formulas and check the result using:\n",
    "#(C) numpy.linalg.solve().\n",
    "import numpy as np\n",
    "\n",
    "a = np.array([[1, 5, 3, -4], [3, 1, -2, 0], [5, -7, 0, 10], [0, 3, -5, 0]])\n",
    "b = np.array([20, 9, -9, 1])\n",
    "x = np.linalg.solve(a, b)\n",
    "x"
   ]
  },
  {
   "cell_type": "code",
   "execution_count": 63,
   "metadata": {},
   "outputs": [
    {
     "data": {
      "text/plain": [
       "False"
      ]
     },
     "execution_count": 63,
     "metadata": {},
     "output_type": "execute_result"
    }
   ],
   "source": [
    "# 2 Compare the results using numpy.allclose().\n",
    "np.allclose([34, 87, 47, 72], [3,  2,  1, -1], [3,  2,  1, -1])"
   ]
  },
  {
   "cell_type": "code",
   "execution_count": 109,
   "metadata": {},
   "outputs": [
    {
     "name": "stdout",
     "output_type": "stream",
     "text": [
      "Value = [ -52 -340    1  171    0    2   48   14  -49]\n"
     ]
    }
   ],
   "source": [
    "# 3 Calculate the value of the matrix expression\n",
    "# (A) using the universal functions of the NumPy library.\n",
    "\n",
    "import numpy as np\n",
    "\n",
    "a = np.array([5, 2, 0, 10, 4, 1, 7, 3, 2])\n",
    "b = np.array([3, 6, -1, -1, -2, 0, 2, 1, 3])\n",
    "\n",
    "Bb= np.array(b ** 2)\n",
    "aa= np.array(a * 2)\n",
    "\n",
    "print(\"Value =\", (a - Bb)*(aa + b))"
   ]
  },
  {
   "cell_type": "code",
   "execution_count": 100,
   "metadata": {},
   "outputs": [
    {
     "name": "stdout",
     "output_type": "stream",
     "text": [
      "4.1 ms ± 215 µs per loop (mean ± std. dev. of 7 runs, 100 loops each)\n"
     ]
    }
   ],
   "source": [
    "#(A)calculate the execution time of the script.\n",
    "%timeit (1.0 / big_array)"
   ]
  },
  {
   "cell_type": "code",
   "execution_count": 118,
   "metadata": {},
   "outputs": [
    {
     "name": "stdout",
     "output_type": "stream",
     "text": [
      "[13, 26, -5]\n",
      "[28, 53, -7]\n",
      "[22, 38, -1]\n"
     ]
    }
   ],
   "source": [
    "# 3 Calculate the value of the matrix expression\n",
    "# (B) using iterative constructions (using loops, list comprehensions, etc.).\n",
    "\n",
    "A = [[5, 2, 0], [10, 4, 1], [7, 3, 2]]\n",
    "B = [[3, 6, -1], [-1, -2, 0], [2, 1, 3]]\n",
    "\n",
    "result = [[sum(a*b for a,b in zip(A_row,B_col)) for B_col in zip(*B)] for A_row in A]\n",
    "\n",
    "for r in result:\n",
    "    print(r)"
   ]
  },
  {
   "cell_type": "code",
   "execution_count": 119,
   "metadata": {},
   "outputs": [
    {
     "name": "stdout",
     "output_type": "stream",
     "text": [
      "3.96 ms ± 143 µs per loop (mean ± std. dev. of 7 runs, 100 loops each)\n"
     ]
    }
   ],
   "source": [
    "#(B)calculate the execution time of the script.\n",
    "%timeit (1.0 / big_array)"
   ]
  },
  {
   "cell_type": "markdown",
   "metadata": {},
   "source": [
    "# 3. Calculate the value of the matrix expression:\n",
    "Time in Task 3(A) 4.1 ms ± 215 µs per loop (mean ± std. dev. of 7 runs, 100 loops each), \n",
    "Time in Task 3(B) 3.96 ms ± 143 µs per loop (mean ± std. dev. of 7 runs, 100 loops each)\n",
    "as shown once again iterative constructions are slightly faster can ufunc in processing speed"
   ]
  },
  {
   "cell_type": "markdown",
   "metadata": {},
   "source": [
    ":D"
   ]
  },
  {
   "cell_type": "code",
   "execution_count": null,
   "metadata": {},
   "outputs": [],
   "source": []
  }
 ],
 "metadata": {
  "kernelspec": {
   "display_name": "Python 3",
   "language": "python",
   "name": "python3"
  },
  "language_info": {
   "codemirror_mode": {
    "name": "ipython",
    "version": 3
   },
   "file_extension": ".py",
   "mimetype": "text/x-python",
   "name": "python",
   "nbconvert_exporter": "python",
   "pygments_lexer": "ipython3",
   "version": "3.8.5"
  }
 },
 "nbformat": 4,
 "nbformat_minor": 4
}
