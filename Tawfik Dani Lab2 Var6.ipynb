{
 "cells": [
  {
   "cell_type": "markdown",
   "metadata": {},
   "source": [
    "# 1 Perform a set of exercises. All tasks should be performed in two ways:"
   ]
  },
  {
   "cell_type": "markdown",
   "metadata": {},
   "source": [
    "## (A)using universal functions of the NumPy library"
   ]
  },
  {
   "cell_type": "code",
   "execution_count": 7,
   "metadata": {},
   "outputs": [
    {
     "data": {
      "text/plain": [
       "array([[1, 0, 0, 0, 0],\n",
       "       [0, 2, 0, 0, 0],\n",
       "       [0, 0, 3, 0, 0],\n",
       "       [0, 0, 0, 4, 0],\n",
       "       [0, 0, 0, 0, 5]])"
      ]
     },
     "execution_count": 7,
     "metadata": {},
     "output_type": "execute_result"
    }
   ],
   "source": [
    "#task1\n",
    "import numpy as np \n",
    "\n",
    "a = np.zeros((5, 5), int);\n",
    "np.fill_diagonal((a), [1,2,3,4,5])\n",
    "a"
   ]
  },
  {
   "cell_type": "code",
   "execution_count": 10,
   "metadata": {},
   "outputs": [
    {
     "data": {
      "text/plain": [
       "array([[0, 0, 0, 0, 0, 0, 0],\n",
       "       [0, 1, 1, 0, 1, 1, 0],\n",
       "       [0, 0, 0, 0, 0, 0, 0],\n",
       "       [0, 1, 1, 0, 1, 1, 0],\n",
       "       [0, 0, 0, 0, 0, 0, 0],\n",
       "       [0, 1, 1, 0, 1, 1, 0]])"
      ]
     },
     "execution_count": 10,
     "metadata": {},
     "output_type": "execute_result"
    }
   ],
   "source": [
    "#task3\n",
    "import numpy as np \n",
    "\n",
    "a = np.zeros((6,7), int);\n",
    "b = 1 #easy access to change value \n",
    "a[1,1] = b\n",
    "a[1,2] = b\n",
    "a[1,4] = b\n",
    "a[1,5] = b\n",
    "a[3,1] = b\n",
    "a[3,2] = b\n",
    "a[3,4] = b\n",
    "a[3,5] = b\n",
    "a[5,1] = b\n",
    "a[5,2] = b\n",
    "a[5,4] = b\n",
    "a[5,5] = b\n",
    "a"
   ]
  },
  {
   "cell_type": "code",
   "execution_count": 22,
   "metadata": {},
   "outputs": [
    {
     "data": {
      "text/plain": [
       "array([[0, 1, 2],\n",
       "       [0, 0, 0],\n",
       "       [0, 0, 0],\n",
       "       [0, 0, 0]])"
      ]
     },
     "execution_count": 22,
     "metadata": {},
     "output_type": "execute_result"
    }
   ],
   "source": [
    "#task4\n",
    "import numpy as np\n",
    "\n",
    "a = np.zeros((4,3), int);\n",
    "a[0,1] = 1\n",
    "a[0,2] = 2\n",
    "a"
   ]
  },
  {
   "cell_type": "code",
   "execution_count": 27,
   "metadata": {
    "scrolled": true
   },
   "outputs": [
    {
     "name": "stdout",
     "output_type": "stream",
     "text": [
      "initial array [3 4 0 9 7 0 6 0 4 0 3]\n",
      "New resulting array:  [-1 -1  0 -1 -1  0 -1  0 -1  0 -1]\n"
     ]
    }
   ],
   "source": [
    "#task6\n",
    "import numpy as np\n",
    "\n",
    "ini_array1 = np.array([3, 4, 0, 9, 7, 0, 6, 0, 4, 0, 3])\n",
    "\n",
    "print(\"initial array\", ini_array1)\n",
    "\n",
    "ini_array1[ini_array1>0] = -1\n",
    "\n",
    "print(\"New resulting array: \", ini_array1)"
   ]
  },
  {
   "cell_type": "code",
   "execution_count": 48,
   "metadata": {},
   "outputs": [
    {
     "name": "stdout",
     "output_type": "stream",
     "text": [
      "Array = [[0.91851217 0.86305177 0.12825092]\n",
      " [0.37266766 0.73863274 0.20914769]\n",
      " [0.27414737 0.9932725  0.26994428]]\n",
      "Mini = 0.128\n",
      "Max = 0.993\n",
      "Mean = 0.53\n",
      "Standard Deviation = 0.324\n"
     ]
    }
   ],
   "source": [
    "#task10\n",
    "import numpy as np\n",
    "\n",
    "a = np.random.rand(3,3)\n",
    "\n",
    "min = np.min(a)\n",
    "max = np.max(a)\n",
    "mean = np.mean(a)\n",
    "std = np.std(a)\n",
    "\n",
    "mmin = np.round(min, 3)\n",
    "mmax = np.round(max,3)\n",
    "mmean = np.round(mean,3)\n",
    "sstd = np.round(std,3)\n",
    "\n",
    "print(\"Array =\", a)\n",
    "print(\"Mini =\", mmin)\n",
    "print(\"Max =\", mmax)\n",
    "print(\"Mean =\", mmean)\n",
    "print(\"Standard Deviation =\", sstd)"
   ]
  },
  {
   "cell_type": "code",
   "execution_count": 66,
   "metadata": {},
   "outputs": [
    {
     "name": "stdout",
     "output_type": "stream",
     "text": [
      "Original array:\n",
      "[[1. 1.]\n",
      " [1. 1.]]\n",
      "0 on the border and 1 inside in the array\n",
      "[[0. 0. 0. 0.]\n",
      " [0. 1. 1. 0.]\n",
      " [0. 1. 1. 0.]\n",
      " [0. 0. 0. 0.]]\n"
     ]
    }
   ],
   "source": [
    "#task12\n",
    "import numpy as np\n",
    "x = np.ones((2,2))\n",
    "print(\"Original array:\")\n",
    "print(x)\n",
    "print(\"0 on the border and 1 inside in the array\")\n",
    "x = np.pad(x, pad_width=1, mode='constant', constant_values=0)\n",
    "print(x)"
   ]
  },
  {
   "cell_type": "code",
   "execution_count": 129,
   "metadata": {},
   "outputs": [
    {
     "name": "stdout",
     "output_type": "stream",
     "text": [
      "[[0. 1. 0. 1. 0.]\n",
      " [0. 1. 0. 1. 0.]\n",
      " [0. 1. 0. 1. 0.]\n",
      " [0. 1. 0. 1. 0.]\n",
      " [0. 1. 0. 1. 0.]]\n"
     ]
    }
   ],
   "source": [
    "#task15\n",
    "import numpy as np\n",
    "\n",
    "a = np.zeros((5,5))\n",
    "o = a\n",
    "o = a[:,0::2]\n",
    "e = a\n",
    "e = a[:,1::2]\n",
    "e.fill(1)\n",
    "print(a)"
   ]
  },
  {
   "cell_type": "code",
   "execution_count": 34,
   "metadata": {},
   "outputs": [
    {
     "name": "stdout",
     "output_type": "stream",
     "text": [
      "less than n/2 = [ 0 -1 -2 -3 -4 -5 -6 -7 -8  9 10]\n",
      "greater than 3n/4 [  0   1   2   3   4   5  -6  -7  -8  -9 -10]\n",
      "[[  0   0]\n",
      " [  1  -1]\n",
      " [  2  -2]\n",
      " [  3  -3]\n",
      " [  4  -4]\n",
      " [  5  -5]\n",
      " [ -6  -6]\n",
      " [ -7  -7]\n",
      " [ -8  -8]\n",
      " [ -9   9]\n",
      " [-10  10]]\n"
     ]
    }
   ],
   "source": [
    "#task17\n",
    "import numpy as np \n",
    "\n",
    "a = np.arange(11)\n",
    "G = np.where(a < (11/2), a, -a)\n",
    "L = np.where(a > ((3 * 11)/4), a, -a)\n",
    "c = np.stack((G,L),axis=1)\n",
    "\n",
    "print(\"less than n/2 =\", L)\n",
    "print(\"greater than 3n/4\", G)\n",
    "print(c)"
   ]
  },
  {
   "cell_type": "code",
   "execution_count": 9,
   "metadata": {},
   "outputs": [
    {
     "name": "stdout",
     "output_type": "stream",
     "text": [
      "Unique Values and their Frequency list [[ 0  1]\n",
      " [ 4  1]\n",
      " [14  1]\n",
      " [16  1]\n",
      " [24  1]\n",
      " [26  1]\n",
      " [37  1]\n",
      " [45  1]\n",
      " [46  1]\n",
      " [48  2]\n",
      " [50  2]\n",
      " [51  2]\n",
      " [66  1]\n",
      " [70  1]\n",
      " [71  1]\n",
      " [75  1]\n",
      " [76  1]\n",
      " [77  1]\n",
      " [80  1]\n",
      " [81  1]\n",
      " [88  1]\n",
      " [92  1]\n",
      " [93  2]\n",
      " [96  3]]\n"
     ]
    }
   ],
   "source": [
    "#task18\n",
    "import numpy as np\n",
    "\n",
    "a = np.random.randint(99, size=(30))\n",
    "(unique, counts) = np.unique(a,return_counts=True)\n",
    "\n",
    "frequencies = np.asarray((unique, counts)).T\n",
    "\n",
    "print(\"Unique Values and their Frequency list\",frequencies)"
   ]
  },
  {
   "cell_type": "code",
   "execution_count": 35,
   "metadata": {},
   "outputs": [
    {
     "name": "stdout",
     "output_type": "stream",
     "text": [
      "1e+03 ns ± 17.5 ns per loop (mean ± std. dev. of 7 runs, 1000000 loops each)\n"
     ]
    }
   ],
   "source": [
    "#(A)calculate the execution time of the script.\n",
    "\n",
    "%timeit sum(range(100))"
   ]
  },
  {
   "cell_type": "markdown",
   "metadata": {},
   "source": [
    "## (B)using iterative constructions (using loops, list comprehensions, etc.)"
   ]
  },
  {
   "cell_type": "code",
   "execution_count": 61,
   "metadata": {},
   "outputs": [
    {
     "data": {
      "text/plain": [
       "[[1, 0, 0, 0, 0],\n",
       " [0, 2, 0, 0, 0],\n",
       " [0, 0, 3, 0, 0],\n",
       " [0, 0, 0, 4, 0],\n",
       " [0, 0, 0, 0, 5]]"
      ]
     },
     "execution_count": 61,
     "metadata": {},
     "output_type": "execute_result"
    }
   ],
   "source": [
    "#task1\n",
    "\n",
    "import numpy as np \n",
    "\n",
    "a = [[1,0,0,0,0],[0,2,0,0,0],[0,0,3,0,0],[0,0,0,4,0],[0,0,0,0,5]]\n",
    "a"
   ]
  },
  {
   "cell_type": "code",
   "execution_count": 64,
   "metadata": {},
   "outputs": [
    {
     "data": {
      "text/plain": [
       "array([[0, 0, 0, 0, 0, 0, 0],\n",
       "       [0, 1, 1, 0, 1, 1, 0],\n",
       "       [0, 0, 0, 0, 0, 0, 0],\n",
       "       [0, 1, 1, 0, 1, 1, 0],\n",
       "       [0, 0, 0, 0, 0, 0, 0],\n",
       "       [0, 1, 1, 0, 1, 1, 0]])"
      ]
     },
     "execution_count": 64,
     "metadata": {},
     "output_type": "execute_result"
    }
   ],
   "source": [
    "#task3\n",
    "\n",
    "import numpy as np \n",
    "\n",
    "a = np.zeros((6,7), int);\n",
    "b = 1 #easy access to change value \n",
    "a[1,1] = b\n",
    "a[1,2] = b\n",
    "a[1,4] = b\n",
    "a[1,5] = b\n",
    "a[3,1] = b\n",
    "a[3,2] = b\n",
    "a[3,4] = b\n",
    "a[3,5] = b\n",
    "a[5,1] = b\n",
    "a[5,2] = b\n",
    "a[5,4] = b\n",
    "a[5,5] = b\n",
    "a"
   ]
  },
  {
   "cell_type": "code",
   "execution_count": 62,
   "metadata": {},
   "outputs": [
    {
     "data": {
      "text/plain": [
       "[[0, 1, 2], [0, 0, 0], [0, 0, 0], [0, 0, 0]]"
      ]
     },
     "execution_count": 62,
     "metadata": {},
     "output_type": "execute_result"
    }
   ],
   "source": [
    "#task4\n",
    "\n",
    "a = [[0, 1, 2],\n",
    "       [0, 0, 0],\n",
    "       [0, 0, 0],\n",
    "       [0, 0, 0]]\n",
    "a"
   ]
  },
  {
   "cell_type": "code",
   "execution_count": 49,
   "metadata": {},
   "outputs": [
    {
     "data": {
      "text/plain": [
       "[-1, -1, 0, -1, -1, 0, -1, 0, -1, 0, -1]"
      ]
     },
     "execution_count": 49,
     "metadata": {},
     "output_type": "execute_result"
    }
   ],
   "source": [
    "#task6\n",
    "\n",
    "a = [3, 4, 0, 9, 7, 0, 6, 0, 4, 0, 3]\n",
    "[-1 if i > 0 else i for i in a]"
   ]
  },
  {
   "cell_type": "code",
   "execution_count": 72,
   "metadata": {},
   "outputs": [
    {
     "name": "stdout",
     "output_type": "stream",
     "text": [
      "Array [ 4 12 25 15 21 25 20 11 22 17]\n",
      "Max value element :  25\n",
      "Min value element :  4\n",
      "Mean value element: 17.2\n",
      "Standard Deviation value: 6.708203932499369\n"
     ]
    }
   ],
   "source": [
    "#task10\n",
    "\n",
    "import numpy as np\n",
    "import statistics\n",
    "\n",
    "randnums= np.random.randint(1,26,10)\n",
    "\n",
    "mean = sum(randnums) / len(randnums)\n",
    "\n",
    "std = statistics.stdev(randnums)\n",
    "\n",
    "print(\"Array\", randnums)\n",
    "print(\"Max value element : \", max(randnums))\n",
    "print(\"Min value element : \", min(randnums))\n",
    "print(\"Mean value element:\", mean)\n",
    "print(\"Standard Deviation value:\", std)"
   ]
  },
  {
   "cell_type": "code",
   "execution_count": null,
   "metadata": {},
   "outputs": [],
   "source": [
    "#task12\n",
    "\n",
    "import numpy as np\n",
    "x = np.ones((2,2))\n",
    "print(\"Original array:\")\n",
    "print(x)\n",
    "print(\"0 on the border and 1 inside in the array\")\n",
    "x = np.pad(x, pad_width=1, mode='constant', constant_values=0)\n",
    "print(x)"
   ]
  },
  {
   "cell_type": "code",
   "execution_count": null,
   "metadata": {},
   "outputs": [],
   "source": [
    "#task15\n",
    "\n",
    "import numpy as np\n",
    "\n",
    "a = np.zeros((5,5))\n",
    "o = a\n",
    "o = a[:,0::2]\n",
    "e = a\n",
    "e = a[:,1::2]\n",
    "e.fill(1)\n",
    "print(a)"
   ]
  },
  {
   "cell_type": "code",
   "execution_count": null,
   "metadata": {},
   "outputs": [],
   "source": [
    "#task17\n",
    "\n",
    "#i dont know how to do task 17 at all, maybe im just missing something \n"
   ]
  },
  {
   "cell_type": "code",
   "execution_count": 12,
   "metadata": {},
   "outputs": [
    {
     "name": "stdout",
     "output_type": "stream",
     "text": [
      "26\n"
     ]
    }
   ],
   "source": [
    "#task18\n",
    "import random\n",
    "\n",
    "a_list = [random.randrange(1, 100, 1) for i in range(30)]\n",
    "a_set = set(a_list)\n",
    "number_of_unique_values = len(a_set)\n",
    "print(number_of_unique_values)"
   ]
  },
  {
   "cell_type": "code",
   "execution_count": 63,
   "metadata": {},
   "outputs": [
    {
     "name": "stdout",
     "output_type": "stream",
     "text": [
      "1.01 µs ± 23.1 ns per loop (mean ± std. dev. of 7 runs, 1000000 loops each)\n"
     ]
    }
   ],
   "source": [
    "#(B)calculate the execution time of the script\n",
    "%timeit sum(range(100))"
   ]
  },
  {
   "cell_type": "markdown",
   "metadata": {},
   "source": [
    "## Time Analysis\n",
    "Time in Task 1(A) 1e+03 ns ± 17.5 ns per loop (mean ± std. dev. of 7 runs, 1000000 loops each),\n",
    "Time in Task 1(B) 1.01 µs ± 23.1 ns per loop (mean ± std. dev. of 7 runs, 1000000 loops each)"
   ]
  },
  {
   "cell_type": "markdown",
   "metadata": {},
   "source": [
    "# 2.Solve the system of linear equations using Cramer's formulas and check the result using:"
   ]
  },
  {
   "cell_type": "markdown",
   "metadata": {},
   "source": [
    "## (A) matrix multiplication;"
   ]
  },
  {
   "cell_type": "code",
   "execution_count": 28,
   "metadata": {
    "scrolled": true
   },
   "outputs": [
    {
     "name": "stdout",
     "output_type": "stream",
     "text": [
      "A = [[ 1  5  3 -4]\n",
      " [ 3  1 -2  0]\n",
      " [ 5 -7  0 10]\n",
      " [ 0  3 -5  0]]\n",
      "b = [20  9 -9  1]\n",
      "Ab = [34 87 47 72]\n"
     ]
    }
   ],
   "source": [
    "import numpy as np\n",
    "\n",
    "a = np.array([[1, 5, 3, -4], [3, 1, -2, 0], [5, -7, 0, 10], [0, 3, -5, 0]])\n",
    "b= np.array([20, 9, -9, 1])\n",
    "\n",
    "print(\"A =\", a)\n",
    "\n",
    "print(\"b =\", b)\n",
    "\n",
    "print(\"Ab =\",np.matmul(a,b))\n"
   ]
  },
  {
   "cell_type": "markdown",
   "metadata": {},
   "source": [
    "## (B) inverse matrix;"
   ]
  },
  {
   "cell_type": "code",
   "execution_count": 29,
   "metadata": {
    "scrolled": true
   },
   "outputs": [
    {
     "name": "stdout",
     "output_type": "stream",
     "text": [
      "[[ 0.01587302  0.31746032  0.00634921 -0.11746032]\n",
      " [ 0.23809524 -0.23809524  0.0952381   0.23809524]\n",
      " [ 0.14285714 -0.14285714  0.05714286 -0.05714286]\n",
      " [ 0.15873016 -0.32539683  0.16349206  0.22539683]]\n",
      "[ 3.  2.  1. -1.]\n"
     ]
    }
   ],
   "source": [
    "import numpy as np\n",
    "\n",
    "m_list = [[1, 5, 3, -4], [3, 1, -2, 0], [5, -7, 0, 10], [0, 3, -5, 0]]\n",
    "A = np.array(m_list)\n",
    "\n",
    "inv_A = np.linalg.inv(A)\n",
    "\n",
    "print(inv_A)\n",
    "\n",
    "B = np.array([20, 9, -9, 1])\n",
    "X = np.linalg.inv(A).dot(B)\n",
    "\n",
    "print(X)"
   ]
  },
  {
   "cell_type": "markdown",
   "metadata": {},
   "source": [
    "## (C) numpy.linalg.solve()."
   ]
  },
  {
   "cell_type": "code",
   "execution_count": 57,
   "metadata": {},
   "outputs": [
    {
     "data": {
      "text/plain": [
       "array([ 3.,  2.,  1., -1.])"
      ]
     },
     "execution_count": 57,
     "metadata": {},
     "output_type": "execute_result"
    }
   ],
   "source": [
    "import numpy as np\n",
    "\n",
    "a = np.array([[1, 5, 3, -4], [3, 1, -2, 0], [5, -7, 0, 10], [0, 3, -5, 0]])\n",
    "b = np.array([20, 9, -9, 1])\n",
    "x = np.linalg.solve(a, b)\n",
    "x"
   ]
  },
  {
   "cell_type": "code",
   "execution_count": 63,
   "metadata": {},
   "outputs": [
    {
     "data": {
      "text/plain": [
       "False"
      ]
     },
     "execution_count": 63,
     "metadata": {},
     "output_type": "execute_result"
    }
   ],
   "source": [
    "# 2 Compare the results using numpy.allclose().\n",
    "np.allclose([34, 87, 47, 72], [3,  2,  1, -1], [3,  2,  1, -1])"
   ]
  },
  {
   "cell_type": "markdown",
   "metadata": {},
   "source": [
    "# 3 Calculate the value of the matrix expression"
   ]
  },
  {
   "cell_type": "markdown",
   "metadata": {},
   "source": [
    "## (A) using the universal functions of the NumPy library."
   ]
  },
  {
   "cell_type": "code",
   "execution_count": 109,
   "metadata": {},
   "outputs": [
    {
     "name": "stdout",
     "output_type": "stream",
     "text": [
      "Value = [ -52 -340    1  171    0    2   48   14  -49]\n"
     ]
    }
   ],
   "source": [
    "import numpy as np\n",
    "\n",
    "a = np.array([5, 2, 0, 10, 4, 1, 7, 3, 2])\n",
    "b = np.array([3, 6, -1, -1, -2, 0, 2, 1, 3])\n",
    "\n",
    "Bb= np.array(b ** 2)\n",
    "aa= np.array(a * 2)\n",
    "\n",
    "print(\"Value =\", (a - Bb)*(aa + b))"
   ]
  },
  {
   "cell_type": "code",
   "execution_count": 100,
   "metadata": {},
   "outputs": [
    {
     "name": "stdout",
     "output_type": "stream",
     "text": [
      "4.1 ms ± 215 µs per loop (mean ± std. dev. of 7 runs, 100 loops each)\n"
     ]
    }
   ],
   "source": [
    "#(A)calculate the execution time of the script.\n",
    "%timeit (1.0 / big_array)"
   ]
  },
  {
   "cell_type": "markdown",
   "metadata": {},
   "source": [
    "## (B) using iterative constructions (using loops, list comprehensions, etc.)."
   ]
  },
  {
   "cell_type": "code",
   "execution_count": 118,
   "metadata": {},
   "outputs": [
    {
     "name": "stdout",
     "output_type": "stream",
     "text": [
      "[13, 26, -5]\n",
      "[28, 53, -7]\n",
      "[22, 38, -1]\n"
     ]
    }
   ],
   "source": [
    "A = [[5, 2, 0], [10, 4, 1], [7, 3, 2]]\n",
    "B = [[3, 6, -1], [-1, -2, 0], [2, 1, 3]]\n",
    "\n",
    "result = [[sum(a*b for a,b in zip(A_row,B_col)) for B_col in zip(*B)] for A_row in A]\n",
    "\n",
    "for r in result:\n",
    "    print(r)"
   ]
  },
  {
   "cell_type": "code",
   "execution_count": 119,
   "metadata": {},
   "outputs": [
    {
     "name": "stdout",
     "output_type": "stream",
     "text": [
      "3.96 ms ± 143 µs per loop (mean ± std. dev. of 7 runs, 100 loops each)\n"
     ]
    }
   ],
   "source": [
    "#(B)calculate the execution time of the script.\n",
    "%timeit (1.0 / big_array)"
   ]
  },
  {
   "cell_type": "markdown",
   "metadata": {},
   "source": [
    "# 3. Calculate the value of the matrix expression:\n",
    "Time in Task 3(A) 4.1 ms ± 215 µs per loop (mean ± std. dev. of 7 runs, 100 loops each), \n",
    "Time in Task 3(B) 3.96 ms ± 143 µs per loop (mean ± std. dev. of 7 runs, 100 loops each)\n",
    "as shown once again iterative constructions are slightly faster can ufunc in processing speed"
   ]
  }
 ],
 "metadata": {
  "kernelspec": {
   "display_name": "Python 3",
   "language": "python",
   "name": "python3"
  },
  "language_info": {
   "codemirror_mode": {
    "name": "ipython",
    "version": 3
   },
   "file_extension": ".py",
   "mimetype": "text/x-python",
   "name": "python",
   "nbconvert_exporter": "python",
   "pygments_lexer": "ipython3",
   "version": "3.8.5"
  }
 },
 "nbformat": 4,
 "nbformat_minor": 4
}
